{
 "cells": [
  {
   "cell_type": "code",
   "execution_count": 8,
   "metadata": {},
   "outputs": [],
   "source": [
    "import sys\n",
    "import torch\n",
    "from matplotlib import pyplot as plt\n",
    "\n",
    "import os\n",
    "\n",
    "dir_path = os.getcwd()\n",
    "dir_path = os.path.dirname(dir_path)\n",
    "\n",
    "sys.path.append(dir_path)\n",
    "\n",
    "from a3c.ActorCritic import ActorCritic\n",
    "from dark_room import DarkRoom\n",
    "from gpt.GPT import GPT"
   ]
  },
  {
   "cell_type": "code",
   "execution_count": 15,
   "metadata": {},
   "outputs": [],
   "source": [
    "env = DarkRoom(size=19)\n",
    "input_dim = env.observation_space.shape[0]\n",
    "action_space = env.action_space.n\n",
    "\n",
    "\n",
    "def render_env(env):\n",
    "    plt.imshow(env.render())\n",
    "    plt.axis(\"off\")\n",
    "    plt.show()"
   ]
  },
  {
   "cell_type": "code",
   "execution_count": 10,
   "metadata": {},
   "outputs": [
    {
     "data": {
      "text/plain": [
       "<All keys matched successfully>"
      ]
     },
     "execution_count": 10,
     "metadata": {},
     "output_type": "execute_result"
    }
   ],
   "source": [
    "a3c = ActorCritic(input_dim, action_space)\n",
    "# load the model\n",
    "a3c.load_state_dict(torch.load(\"../models/a3c_model.pth\", weights_only=False))"
   ]
  },
  {
   "cell_type": "code",
   "execution_count": 14,
   "metadata": {},
   "outputs": [],
   "source": [
    "def a3c_step(state):\n",
    "    policy, _ = a3c(torch.tensor(state, dtype=torch.float32).unsqueeze(0))\n",
    "    action = torch.softmax(policy, dim=-1).argmax().item()\n",
    "    return action\n",
    "\n",
    "\n",
    "state = env.reset()"
   ]
  },
  {
   "cell_type": "code",
   "execution_count": 27,
   "metadata": {},
   "outputs": [
    {
     "name": "stdout",
     "output_type": "stream",
     "text": [
      "Goal reached\n"
     ]
    },
    {
     "data": {
      "image/png": "[encoded data removed]",
      "text/plain": [
       "<Figure size 640x480 with 1 Axes>"
      ]
     },
     "metadata": {},
     "output_type": "display_data"
    }
   ],
   "source": [
    "action = a3c_step(state)\n",
    "state, reward, done = env.step(action)\n",
    "render_env(env)"
   ]
  },
  {
   "cell_type": "code",
   "execution_count": 39,
   "metadata": {},
   "outputs": [
    {
     "data": {
      "text/plain": [
       "<All keys matched successfully>"
      ]
     },
     "execution_count": 39,
     "metadata": {},
     "output_type": "execute_result"
    }
   ],
   "source": [
    "gpt = GPT()\n",
    "gpt.load_state_dict(torch.load(\"../models/gpt_model.pth\", weights_only=False))"
   ]
  },
  {
   "cell_type": "code",
   "execution_count": 4,
   "metadata": {},
   "outputs": [],
   "source": [
    "context = []\n",
    "returns = []\n",
    "num_episodes = 100\n",
    "\n",
    "for episode in range(num_episodes):\n",
    "    state = env.reset()\n",
    "    done = False\n",
    "    total_return = 0\n",
    "    while not done:\n",
    "        action = a3c.act(state)\n",
    "        state, reward, done, _ = env.step(action)\n",
    "        total_return += reward\n",
    "        context.append(state)\n",
    "    returns.append(total_return)"
   ]
  },
  {
   "cell_type": "code",
   "execution_count": null,
   "metadata": {},
   "outputs": [],
   "source": [
    "def evaluate_ad_model(model, env, num_episodes=1000, context_size=200):\n",
    "\n",
    "    for episode in range(num_episodes):\n",
    "        obs = env.reset()  # Reset environment, but don't clear context\n",
    "        episode_return = 0\n",
    "\n",
    "        for step in range(50):  # 50 steps per episode\n",
    "            if len(context) >= context_size:\n",
    "                context = context[-context_size:]\n",
    "\n",
    "            action = model.predict(context + [obs])\n",
    "            next_obs, reward, done, _ = env.step(action)\n",
    "\n",
    "            context.append((obs, action, reward))\n",
    "            episode_return += reward\n",
    "            obs = next_obs\n",
    "\n",
    "            if done:\n",
    "                break\n",
    "\n",
    "        returns.append(episode_return)\n",
    "\n",
    "    return returns"
   ]
  },
  {
   "cell_type": "code",
   "execution_count": 7,
   "metadata": {},
   "outputs": [
    {
     "data": {
      "image/png": "[encoded data removed]",
      "text/plain": [
       "<Figure size 640x480 with 1 Axes>"
      ]
     },
     "metadata": {},
     "output_type": "display_data"
    }
   ],
   "source": [
    "grid_to_render = env.render()\n",
    "\n",
    "\n",
    "plt.imshow(grid_to_render)\n",
    "plt.show()"
   ]
  }
 ],
 "metadata": {
  "kernelspec": {
   "display_name": "airi",
   "language": "python",
   "name": "python3"
  },
  "language_info": {
   "codemirror_mode": {
    "name": "ipython",
    "version": 3
   },
   "file_extension": ".py",
   "mimetype": "text/x-python",
   "name": "python",
   "nbconvert_exporter": "python",
   "pygments_lexer": "ipython3",
   "version": "3.12.4"
  }
 },
 "nbformat": 4,
 "nbformat_minor": 2
}
